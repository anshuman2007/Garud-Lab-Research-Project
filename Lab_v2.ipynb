{
  "nbformat": 4,
  "nbformat_minor": 0,
  "metadata": {
    "colab": {
      "name": "Lab_v2.ipynb",
      "provenance": [],
      "collapsed_sections": [],
      "authorship_tag": "ABX9TyN/02To3s80ErfS0WD6xUZE",
      "include_colab_link": true
    },
    "kernelspec": {
      "display_name": "Python 3",
      "name": "python3"
    },
    "accelerator": "GPU"
  },
  "cells": [
    {
      "cell_type": "markdown",
      "metadata": {
        "id": "view-in-github",
        "colab_type": "text"
      },
      "source": [
        "<a href=\"https://colab.research.google.com/github/anshuman2007/Garud-Lab-Research-Project/blob/main/Lab_v2.ipynb\" target=\"_parent\"><img src=\"https://colab.research.google.com/assets/colab-badge.svg\" alt=\"Open In Colab\"/></a>"
      ]
    },
    {
      "cell_type": "code",
      "metadata": {
        "id": "U-FsP4waZJXo"
      },
      "source": [
        "#hide\n",
        "!pip install -Uqq fastbook\n",
        "import fastbook\n",
        "fastbook.setup_book()"
      ],
      "execution_count": 21,
      "outputs": []
    },
    {
      "cell_type": "code",
      "metadata": {
        "colab": {
          "base_uri": "https://localhost:8080/"
        },
        "id": "lZvlacLFbSPj",
        "outputId": "0ea6b6c7-04f3-48c2-bcda-4766566ed97b"
      },
      "source": [
        "#hide - Loading libraries\n",
        "from fastbook import *\n",
        "from IPython.display import display,HTML\n",
        "from fastai.text.all import *\n",
        "import pandas as pd\n",
        "import numpy as np\n",
        "import nltk\n",
        "from fastai.vision import *\n",
        "from fastai.metrics import error_rate # 1 - accuracy\n",
        "import sklearn.model_selection\n",
        "from sklearn.metrics import roc_curve, auc\n",
        "\n",
        "from nltk.corpus import stopwords\n",
        "nltk.download('stopwords')"
      ],
      "execution_count": 22,
      "outputs": [
        {
          "output_type": "stream",
          "text": [
            "[nltk_data] Downloading package stopwords to /root/nltk_data...\n",
            "[nltk_data]   Package stopwords is already up-to-date!\n"
          ],
          "name": "stdout"
        },
        {
          "output_type": "execute_result",
          "data": {
            "text/plain": [
              "True"
            ]
          },
          "metadata": {
            "tags": []
          },
          "execution_count": 22
        }
      ]
    },
    {
      "cell_type": "code",
      "metadata": {
        "id": "bQgaIueEMxvW"
      },
      "source": [
        "##from google.colab import drive\n",
        "#drive.mount('/content/gdrive', force_remount=True)\n",
        "#root_dir = \"/content/gdrive/My Drive/\"\n",
        "\n",
        "# Creating a dataframe from CSV file\n",
        "df = pd.read_csv(\"/content/gdrive/My Drive/fastai-v3/full.csv\") \n",
        "\n",
        "# Removing stopwords\n",
        "# function to apply stopwords to the Tweets cleaned tokenized column\n",
        "\n",
        "def stopwords_clean(text):\n",
        "    stop_words = set(stopwords.words('english'))\n",
        "    no_stopword_text = [w for w in str(text).split() if not w in stop_words]\n",
        "    return \" \".join(no_stopword_text)\n",
        "\n",
        "df['Text'] = df['Text'].apply(lambda x: stopwords_clean(x))\n",
        "\n",
        "# SPLIT INTO TRAIN TEST AND VALID\n",
        "\n",
        "train, validate, test = \\\n",
        "              np.split(df.sample(frac=1, random_state=42), \n",
        "                       [int(.4*len(df)), int(.7*len(df))])\n",
        "              \n",
        "# combine train and test to create learner object\n",
        "trn = pd.concat([train,test])"
      ],
      "execution_count": 23,
      "outputs": []
    },
    {
      "cell_type": "code",
      "metadata": {
        "id": "FpJprSfrd349",
        "colab": {
          "base_uri": "https://localhost:8080/"
        },
        "outputId": "b814ee8c-6ca5-4325-c296-0a5527859641"
      },
      "source": [
        "trn.shape[0]"
      ],
      "execution_count": 24,
      "outputs": [
        {
          "output_type": "execute_result",
          "data": {
            "text/plain": [
              "8377"
            ]
          },
          "metadata": {
            "tags": []
          },
          "execution_count": 24
        }
      ]
    },
    {
      "cell_type": "code",
      "metadata": {
        "colab": {
          "base_uri": "https://localhost:8080/",
          "height": 287
        },
        "id": "go5XQm5yXb_g",
        "outputId": "329a104b-09d5-4cb9-dedc-2a5fa9aa3550"
      },
      "source": [
        "### Fine-Tuning Language Model\n",
        "# Step 1: Creating a DataLoaders object\n",
        "dls_lm = TextDataLoaders.from_df(trn, valid_pct = 0.2, text_col='Text', is_lm = True)\n",
        "dls_lm.show_batch(max_n=3)"
      ],
      "execution_count": 25,
      "outputs": [
        {
          "output_type": "display_data",
          "data": {
            "text/html": [
              ""
            ],
            "text/plain": [
              "<IPython.core.display.HTML object>"
            ]
          },
          "metadata": {
            "tags": []
          }
        },
        {
          "output_type": "display_data",
          "data": {
            "text/html": [
              "<table border=\"1\" class=\"dataframe\">\n",
              "  <thead>\n",
              "    <tr style=\"text-align: right;\">\n",
              "      <th></th>\n",
              "      <th>text</th>\n",
              "      <th>text_</th>\n",
              "    </tr>\n",
              "  </thead>\n",
              "  <tbody>\n",
              "    <tr>\n",
              "      <th>0</th>\n",
              "      <td>xxbos 1 . xxmaj biomacromolecules . 2018 xxmaj sep xxunk - xxunk . doi : 10.1021 / xxunk . xxmaj epub 2018 xxmaj aug 22 . xxmaj cargo xxmaj retention inside xxup p22 virus - like xxmaj particles . mccoy xxup k(1 ) , xxmaj xxunk xxup e(1 ) , xxmaj luque xxup d(2)(3 ) , xxmaj lee xxup b(4 ) , xxmaj edwards xxup e(1 ) , xxmaj xxunk xxup jr(2</td>\n",
              "      <td>1 . xxmaj biomacromolecules . 2018 xxmaj sep xxunk - xxunk . doi : 10.1021 / xxunk . xxmaj epub 2018 xxmaj aug 22 . xxmaj cargo xxmaj retention inside xxup p22 virus - like xxmaj particles . mccoy xxup k(1 ) , xxmaj xxunk xxup e(1 ) , xxmaj luque xxup d(2)(3 ) , xxmaj lee xxup b(4 ) , xxmaj edwards xxup e(1 ) , xxmaj xxunk xxup jr(2 )</td>\n",
              "    </tr>\n",
              "    <tr>\n",
              "      <th>1</th>\n",
              "      <td>, colocalization viral proteins , disruption xxup cd1 recycling machinery . xxmaj finally , even low titers xxup hsv interfered capacity infected xxup dc stimulate release important cytokines cd1d - restricted xxup nkt cells . xxmaj thus , demonstrate existence xxup cd1 pathway allowing human xxup dc react viral infection , well blockage human herpesvirus . xxup doi : 10.4049 / xxunk xxup pmid : xxunk [ indexed xxup medline ] xxbos</td>\n",
              "      <td>colocalization viral proteins , disruption xxup cd1 recycling machinery . xxmaj finally , even low titers xxup hsv interfered capacity infected xxup dc stimulate release important cytokines cd1d - restricted xxup nkt cells . xxmaj thus , demonstrate existence xxup cd1 pathway allowing human xxup dc react viral infection , well blockage human herpesvirus . xxup doi : 10.4049 / xxunk xxup pmid : xxunk [ indexed xxup medline ] xxbos 1</td>\n",
              "    </tr>\n",
              "    <tr>\n",
              "      <th>2</th>\n",
              "      <td>17 xxup rau patients ( gr xxup b ) . xxmaj ten patients gr a 11 gr b igm seropositive either xxup vzv and / or xxup cmv least one serum samples , whereas controls one xxup vzv igm positive none xxup cmv igm positive . xxmaj evaluated groups , xxunk density ( od ) antibody levels xxup vzv igm significantly higher patients ( gr a ( 1,2 ) vs controls :</td>\n",
              "      <td>xxup rau patients ( gr xxup b ) . xxmaj ten patients gr a 11 gr b igm seropositive either xxup vzv and / or xxup cmv least one serum samples , whereas controls one xxup vzv igm positive none xxup cmv igm positive . xxmaj evaluated groups , xxunk density ( od ) antibody levels xxup vzv igm significantly higher patients ( gr a ( 1,2 ) vs controls : p</td>\n",
              "    </tr>\n",
              "  </tbody>\n",
              "</table>"
            ],
            "text/plain": [
              "<IPython.core.display.HTML object>"
            ]
          },
          "metadata": {
            "tags": []
          }
        }
      ]
    },
    {
      "cell_type": "code",
      "metadata": {
        "id": "XSvdzo_LPior"
      },
      "source": [
        "learn_lm = language_model_learner(\n",
        "    dls_lm, AWD_LSTM, drop_mult=0.3, \n",
        "    metrics=[accuracy, Perplexity()]).to_fp16()\n",
        "\n",
        "## (Modify) Finding optimal learning rate\n",
        "#learn.lr_find()"
      ],
      "execution_count": 26,
      "outputs": []
    },
    {
      "cell_type": "code",
      "metadata": {
        "colab": {
          "base_uri": "https://localhost:8080/",
          "height": 77
        },
        "id": "UbyN8mdOP23O",
        "outputId": "635d6db4-eaa7-477c-afd7-7173528c62f7"
      },
      "source": [
        "learn_lm.fit_one_cycle(1, 1e-2)"
      ],
      "execution_count": 27,
      "outputs": [
        {
          "output_type": "display_data",
          "data": {
            "text/html": [
              "<table border=\"1\" class=\"dataframe\">\n",
              "  <thead>\n",
              "    <tr style=\"text-align: left;\">\n",
              "      <th>epoch</th>\n",
              "      <th>train_loss</th>\n",
              "      <th>valid_loss</th>\n",
              "      <th>accuracy</th>\n",
              "      <th>perplexity</th>\n",
              "      <th>time</th>\n",
              "    </tr>\n",
              "  </thead>\n",
              "  <tbody>\n",
              "    <tr>\n",
              "      <td>0</td>\n",
              "      <td>3.987975</td>\n",
              "      <td>3.720416</td>\n",
              "      <td>0.433019</td>\n",
              "      <td>41.281578</td>\n",
              "      <td>01:50</td>\n",
              "    </tr>\n",
              "  </tbody>\n",
              "</table>"
            ],
            "text/plain": [
              "<IPython.core.display.HTML object>"
            ]
          },
          "metadata": {
            "tags": []
          }
        }
      ]
    },
    {
      "cell_type": "code",
      "metadata": {
        "colab": {
          "base_uri": "https://localhost:8080/",
          "height": 343
        },
        "id": "PnCTKVvDc9EA",
        "outputId": "b7ba4c7d-4fa5-42f6-e6b6-80fb55d88c5a"
      },
      "source": [
        "#learn.save('1epoch')\n",
        "#learn = learn.load('1epoch')\n",
        "#learn.unfreeze()\n",
        "learn_lm.fit_one_cycle(10, 1e-3)"
      ],
      "execution_count": 28,
      "outputs": [
        {
          "output_type": "display_data",
          "data": {
            "text/html": [
              "<table border=\"1\" class=\"dataframe\">\n",
              "  <thead>\n",
              "    <tr style=\"text-align: left;\">\n",
              "      <th>epoch</th>\n",
              "      <th>train_loss</th>\n",
              "      <th>valid_loss</th>\n",
              "      <th>accuracy</th>\n",
              "      <th>perplexity</th>\n",
              "      <th>time</th>\n",
              "    </tr>\n",
              "  </thead>\n",
              "  <tbody>\n",
              "    <tr>\n",
              "      <td>0</td>\n",
              "      <td>3.702323</td>\n",
              "      <td>3.696919</td>\n",
              "      <td>0.434860</td>\n",
              "      <td>40.322868</td>\n",
              "      <td>01:50</td>\n",
              "    </tr>\n",
              "    <tr>\n",
              "      <td>1</td>\n",
              "      <td>3.626449</td>\n",
              "      <td>3.642772</td>\n",
              "      <td>0.439001</td>\n",
              "      <td>38.197582</td>\n",
              "      <td>01:49</td>\n",
              "    </tr>\n",
              "    <tr>\n",
              "      <td>2</td>\n",
              "      <td>3.561521</td>\n",
              "      <td>3.584893</td>\n",
              "      <td>0.443464</td>\n",
              "      <td>36.049492</td>\n",
              "      <td>01:50</td>\n",
              "    </tr>\n",
              "    <tr>\n",
              "      <td>3</td>\n",
              "      <td>3.456196</td>\n",
              "      <td>3.540140</td>\n",
              "      <td>0.447551</td>\n",
              "      <td>34.471760</td>\n",
              "      <td>01:49</td>\n",
              "    </tr>\n",
              "    <tr>\n",
              "      <td>4</td>\n",
              "      <td>3.399159</td>\n",
              "      <td>3.507898</td>\n",
              "      <td>0.449872</td>\n",
              "      <td>33.378044</td>\n",
              "      <td>01:49</td>\n",
              "    </tr>\n",
              "    <tr>\n",
              "      <td>5</td>\n",
              "      <td>3.357272</td>\n",
              "      <td>3.485328</td>\n",
              "      <td>0.452215</td>\n",
              "      <td>32.633137</td>\n",
              "      <td>01:49</td>\n",
              "    </tr>\n",
              "    <tr>\n",
              "      <td>6</td>\n",
              "      <td>3.290766</td>\n",
              "      <td>3.471325</td>\n",
              "      <td>0.453396</td>\n",
              "      <td>32.179356</td>\n",
              "      <td>01:49</td>\n",
              "    </tr>\n",
              "    <tr>\n",
              "      <td>7</td>\n",
              "      <td>3.261686</td>\n",
              "      <td>3.464272</td>\n",
              "      <td>0.454099</td>\n",
              "      <td>31.953175</td>\n",
              "      <td>01:49</td>\n",
              "    </tr>\n",
              "    <tr>\n",
              "      <td>8</td>\n",
              "      <td>3.235842</td>\n",
              "      <td>3.461318</td>\n",
              "      <td>0.454312</td>\n",
              "      <td>31.858955</td>\n",
              "      <td>01:49</td>\n",
              "    </tr>\n",
              "    <tr>\n",
              "      <td>9</td>\n",
              "      <td>3.230909</td>\n",
              "      <td>3.460962</td>\n",
              "      <td>0.454373</td>\n",
              "      <td>31.847609</td>\n",
              "      <td>01:49</td>\n",
              "    </tr>\n",
              "  </tbody>\n",
              "</table>"
            ],
            "text/plain": [
              "<IPython.core.display.HTML object>"
            ]
          },
          "metadata": {
            "tags": []
          }
        }
      ]
    },
    {
      "cell_type": "code",
      "metadata": {
        "id": "0JY2dbBtSXlY"
      },
      "source": [
        "## Saving our fine-tuned model without the final layer\n",
        "learn_lm.save_encoder('/content/gdrive/My Drive/fastai-v3/models/vip_learner1') # fine-tuned language model for 60% of full dataset\n",
        "\n",
        "# Mounting google drive\n",
        "#from google.colab import drive\n",
        "#drive.mount('/content/gdrive', force_remount=True)\n",
        "#root_dir = \"/content/gdrive/My Drive/\"\n",
        "#base_dir = root_dir + 'fastai-v3/'\n",
        "\n",
        "#  Create a variable with your folder name and create a folder on Google Drive\n",
        "#dest=Path(base_dir + \"models\")\n",
        "#try:\n",
        " # dest.mkdir(parents=True, exist_ok=False)\n",
        "#except FileExistsError:\n",
        " # print ('File Already Exists')\n",
        "\n",
        "# Saving model\n",
        "#learn.save_encoder(dest/'finetuned')"
      ],
      "execution_count": 44,
      "outputs": []
    },
    {
      "cell_type": "code",
      "metadata": {
        "colab": {
          "base_uri": "https://localhost:8080/",
          "height": 447
        },
        "id": "V1gavcjKbqOV",
        "outputId": "2a96bf10-d379-44ea-c7e6-2844226b4091"
      },
      "source": [
        "## LOADING LEARNER FROM FIRST COLAB NOTEBOOK\n",
        "#learn = learn.load_encoder('/content/gdrive/My Drive/fastai-v3/models/finetuned')\n",
        "\n",
        "\n",
        "\n",
        "### Creating Classifier DataLoaders Object\n",
        "dls_clas = TextDataLoaders.from_df(test, seed = 123, text_col = 'Text', label_col = 'label', text_vocab=dls_lm.vocab)\n",
        "dls_clas.show_batch(max_n = 5)"
      ],
      "execution_count": 29,
      "outputs": [
        {
          "output_type": "display_data",
          "data": {
            "text/html": [
              ""
            ],
            "text/plain": [
              "<IPython.core.display.HTML object>"
            ]
          },
          "metadata": {
            "tags": []
          }
        },
        {
          "output_type": "display_data",
          "data": {
            "text/html": [
              "<table border=\"1\" class=\"dataframe\">\n",
              "  <thead>\n",
              "    <tr style=\"text-align: right;\">\n",
              "      <th></th>\n",
              "      <th>text</th>\n",
              "      <th>category</th>\n",
              "    </tr>\n",
              "  </thead>\n",
              "  <tbody>\n",
              "    <tr>\n",
              "      <th>0</th>\n",
              "      <td>xxbos 1 . xxmaj bull xxmaj world xxmaj health xxmaj organ . 2014 xxmaj nov xxunk - 806 . doi : 10.2471 / xxup xxunk . xxmaj epub 2014 xxmaj sep 18 . xxmaj drug resistance xxmaj mycobacterium tuberculosis xxmaj malawi : cross - sectional survey . xxmaj xxunk xxup m(1 ) , xxmaj xxunk xxup r(1 ) , xxmaj xxunk xxup i(2 ) , xxmaj xxunk xxup j(2 ) , xxmaj xxunk xxup b(1 ) , xxmaj xxunk xxup f(2 ) , xxmaj xxunk xxup h(3 ) , xxmaj xxunk xxup c(4 ) , xxmaj suarez xxup p(5 ) , xxmaj xxunk xxup c(5 ) , xxmaj xxunk xxup ht(3 ) , xxmaj xxunk xxup i(6 ) , xxmaj xxunk xxup sb(1 ) . xxmaj author information : ( 1)centre xxmaj applied xxmaj health xxmaj research &amp; xxmaj delivery , xxmaj department xxmaj clinical xxmaj sciences , xxmaj liverpool</td>\n",
              "      <td>0</td>\n",
              "    </tr>\n",
              "    <tr>\n",
              "      <th>1</th>\n",
              "      <td>xxbos 1 . xxmaj clin xxmaj infect xxmaj dis . 2020 xxmaj apr xxunk - xxunk . doi : 10.1093 / cid / xxunk . xxmaj false - negative xxmaj results xxmaj human xxmaj immunodeficiency xxmaj virus ( hiv ) xxmaj rapid xxmaj testing xxup hiv xxmaj controllers . xxunk - xxunk xxup m(1 ) , xxmaj xxunk xxup xxunk ) , xxmaj xxunk xxup xxunk ) , xxmaj boufassa xxup f(6 ) , xxmaj xxunk xxup xxunk ) , xxmaj xxunk xxup xxunk ) , xxmaj xxunk xxup xxunk ) , xxmaj xxunk xxup xxunk ) , xxmaj rouzioux xxup c(2 ) , xxmaj xxunk xxup xxunk ) , xxunk - xxunk xxup xxunk ) ; xxup xxunk xxup anrs xxmaj cohort xxmaj study xxmaj group . xxmaj collaborators : xxmaj faller xxup jp , xxmaj xxunk xxup p , xxmaj xxunk xxup md , xxmaj aumaître xxup h</td>\n",
              "      <td>0</td>\n",
              "    </tr>\n",
              "    <tr>\n",
              "      <th>2</th>\n",
              "      <td>xxbos 1 . xxmaj hepatology . 2018 xxmaj xxunk - 47 . doi : 10.1002 / xxunk . xxmaj epub 2018 xxmaj apr 27 . xxmaj all - oral direct - acting antiviral therapy hepatitis c virus ( hcv ) human immunodeficiency virus / hcv - coinfected subjects real - world practice : xxmaj madrid coinfection registry findings . xxmaj berenguer xxup j(1 ) , gil - martin xxunk ) , xxmaj xxunk xxup i(3 ) , xxmaj moreno xxup a(4 ) , xxmaj dominguez xxup l(5 ) , xxmaj montes xxup m(6 ) , xxunk - xxunk xxup t(1 ) , xxmaj téllez xxup xxunk ) , xxmaj santos xxup i(8 ) , xxmaj xxunk xxup xxunk ) , xxmaj sanz xxup xxunk ) , xxmaj ryan xxup xxunk ) , xxmaj gaspar xxup g(12 ) , xxmaj alvarez xxup xxunk ) , xxmaj losa xxup xxunk ) ,</td>\n",
              "      <td>0</td>\n",
              "    </tr>\n",
              "    <tr>\n",
              "      <th>3</th>\n",
              "      <td>xxbos 1 . xxmaj public xxmaj health xxmaj action . 2016 xxmaj jun xxunk - 10 . doi : 10.5588 / pha.15.0081 . xxmaj high mortality tuberculosis patients despite xxup hiv interventions xxmaj swaziland . xxmaj xxunk xxup g(1 ) , van xxmaj xxunk xxup j(2 ) , xxmaj xxunk xxup sg(3 ) , xxmaj xxunk xxup w(4 ) , xxmaj xxunk xxup w(1 ) , xxmaj xxunk xxup m(5 ) , xxmaj xxunk xxup t(1 ) , xxmaj xxunk xxup xxunk ) . xxmaj author information : ( 1)national xxup tb xxmaj control xxmaj programme , xxmaj ministry xxmaj health , xxmaj xxunk , xxmaj swaziland . ( 2)institute xxmaj tropical xxmaj medicine , xxmaj antwerp , xxmaj belgium . ( 3)university xxmaj bergen , xxmaj bergen , xxmaj norway . ( xxunk xxmaj sans xxmaj frontières ( xxunk ) , xxmaj operational xxmaj centre xxmaj brussels , xxmaj</td>\n",
              "      <td>0</td>\n",
              "    </tr>\n",
              "    <tr>\n",
              "      <th>4</th>\n",
              "      <td>xxbos 1 . xxmaj viruses . 2018 xxmaj dec xxunk ) . pii : xxup xxunk . doi : 10.3390 / v10120689 . toll - like xxmaj receptor 3 xxmaj is xxmaj involved xxmaj detection xxmaj enterovirus xxup a71 xxmaj infection xxmaj targeted xxmaj viral 2a xxmaj protease . xxmaj chen xxup xxunk ) , xxmaj yu xxup xxunk ) , xxmaj kung xxup xxunk ) , xxmaj chen xxup xxunk ) , xxmaj chang xxup xxunk ) , xxmaj ho xxup xxunk ) , xxmaj lee xxup xxunk ) , xxmaj chang xxup xxunk ) , xxmaj huang xxup xxunk ) , xxmaj lo xxup xxunk ) , xxmaj chang xxup xxunk ) , xxmaj ling xxup xxunk ) . xxmaj author information : ( 1)institute xxmaj basic xxmaj medical xxmaj sciences , xxmaj college xxmaj medicine , xxmaj national xxmaj cheng xxmaj kung xxmaj university , xxmaj tainan</td>\n",
              "      <td>0</td>\n",
              "    </tr>\n",
              "  </tbody>\n",
              "</table>"
            ],
            "text/plain": [
              "<IPython.core.display.HTML object>"
            ]
          },
          "metadata": {
            "tags": []
          }
        }
      ]
    },
    {
      "cell_type": "code",
      "metadata": {
        "id": "8OzZPHt3b6Ty"
      },
      "source": [
        "classifier = text_classifier_learner(dls_clas, AWD_LSTM, drop_mult=0.5, \n",
        "                                metrics=accuracy).to_fp16()\n",
        "\n",
        "#learn = learn.load_encoder('finetuned')"
      ],
      "execution_count": 30,
      "outputs": []
    },
    {
      "cell_type": "code",
      "metadata": {
        "colab": {
          "base_uri": "https://localhost:8080/",
          "height": 300
        },
        "id": "xkReQFiVo-Jb",
        "outputId": "8dfc3cc2-c90b-4842-dce0-a9d2c93edc7c"
      },
      "source": [
        "classifier.lr_find()"
      ],
      "execution_count": 31,
      "outputs": [
        {
          "output_type": "display_data",
          "data": {
            "text/html": [
              ""
            ],
            "text/plain": [
              "<IPython.core.display.HTML object>"
            ]
          },
          "metadata": {
            "tags": []
          }
        },
        {
          "output_type": "execute_result",
          "data": {
            "text/plain": [
              "SuggestedLRs(lr_min=0.04365158379077912, lr_steep=0.9120108485221863)"
            ]
          },
          "metadata": {
            "tags": []
          },
          "execution_count": 31
        },
        {
          "output_type": "display_data",
          "data": {
            "image/png": "[encoded data removed]",
            "text/plain": [
              "<Figure size 432x288 with 1 Axes>"
            ]
          },
          "metadata": {
            "tags": [],
            "needs_background": "light"
          }
        }
      ]
    },
    {
      "cell_type": "code",
      "metadata": {
        "colab": {
          "base_uri": "https://localhost:8080/",
          "height": 77
        },
        "id": "ScVHUPmspfbE",
        "outputId": "d7d78014-695b-4423-aec9-e870f0b5983a"
      },
      "source": [
        "classifier.fit_one_cycle(1, 2e-2)"
      ],
      "execution_count": 32,
      "outputs": [
        {
          "output_type": "display_data",
          "data": {
            "text/html": [
              "<table border=\"1\" class=\"dataframe\">\n",
              "  <thead>\n",
              "    <tr style=\"text-align: left;\">\n",
              "      <th>epoch</th>\n",
              "      <th>train_loss</th>\n",
              "      <th>valid_loss</th>\n",
              "      <th>accuracy</th>\n",
              "      <th>time</th>\n",
              "    </tr>\n",
              "  </thead>\n",
              "  <tbody>\n",
              "    <tr>\n",
              "      <td>0</td>\n",
              "      <td>0.756185</td>\n",
              "      <td>0.496842</td>\n",
              "      <td>0.825905</td>\n",
              "      <td>00:10</td>\n",
              "    </tr>\n",
              "  </tbody>\n",
              "</table>"
            ],
            "text/plain": [
              "<IPython.core.display.HTML object>"
            ]
          },
          "metadata": {
            "tags": []
          }
        }
      ]
    },
    {
      "cell_type": "code",
      "metadata": {
        "colab": {
          "base_uri": "https://localhost:8080/",
          "height": 77
        },
        "id": "5hCLUmUBp1KH",
        "outputId": "1f8291f6-87c7-4d48-84a4-cbe0b6436155"
      },
      "source": [
        "classifier.freeze_to(-2)\n",
        "classifier.fit_one_cycle(1, slice(1e-2/(2.6**4),1e-2))"
      ],
      "execution_count": 33,
      "outputs": [
        {
          "output_type": "display_data",
          "data": {
            "text/html": [
              "<table border=\"1\" class=\"dataframe\">\n",
              "  <thead>\n",
              "    <tr style=\"text-align: left;\">\n",
              "      <th>epoch</th>\n",
              "      <th>train_loss</th>\n",
              "      <th>valid_loss</th>\n",
              "      <th>accuracy</th>\n",
              "      <th>time</th>\n",
              "    </tr>\n",
              "  </thead>\n",
              "  <tbody>\n",
              "    <tr>\n",
              "      <td>0</td>\n",
              "      <td>0.508315</td>\n",
              "      <td>0.290107</td>\n",
              "      <td>0.915042</td>\n",
              "      <td>00:12</td>\n",
              "    </tr>\n",
              "  </tbody>\n",
              "</table>"
            ],
            "text/plain": [
              "<IPython.core.display.HTML object>"
            ]
          },
          "metadata": {
            "tags": []
          }
        }
      ]
    },
    {
      "cell_type": "code",
      "metadata": {
        "colab": {
          "base_uri": "https://localhost:8080/",
          "height": 77
        },
        "id": "DP4Sfe8XqDaJ",
        "outputId": "c29627a3-0a2f-4b68-a1b8-b92801fe6d9c"
      },
      "source": [
        "classifier.freeze_to(-3)\n",
        "classifier.fit_one_cycle(1, slice(5e-3/(2.6**4),5e-3))"
      ],
      "execution_count": 34,
      "outputs": [
        {
          "output_type": "display_data",
          "data": {
            "text/html": [
              "<table border=\"1\" class=\"dataframe\">\n",
              "  <thead>\n",
              "    <tr style=\"text-align: left;\">\n",
              "      <th>epoch</th>\n",
              "      <th>train_loss</th>\n",
              "      <th>valid_loss</th>\n",
              "      <th>accuracy</th>\n",
              "      <th>time</th>\n",
              "    </tr>\n",
              "  </thead>\n",
              "  <tbody>\n",
              "    <tr>\n",
              "      <td>0</td>\n",
              "      <td>0.333034</td>\n",
              "      <td>0.198486</td>\n",
              "      <td>0.927577</td>\n",
              "      <td>00:18</td>\n",
              "    </tr>\n",
              "  </tbody>\n",
              "</table>"
            ],
            "text/plain": [
              "<IPython.core.display.HTML object>"
            ]
          },
          "metadata": {
            "tags": []
          }
        }
      ]
    },
    {
      "cell_type": "code",
      "metadata": {
        "colab": {
          "base_uri": "https://localhost:8080/",
          "height": 136
        },
        "id": "zEh8SnEHqbUo",
        "outputId": "2b11fadf-2569-4a51-f670-9247c40a2445"
      },
      "source": [
        "classifier.unfreeze()\n",
        "classifier.fit_one_cycle(2, slice(1e-3/(2.6**4),1e-3))"
      ],
      "execution_count": 35,
      "outputs": [
        {
          "output_type": "display_data",
          "data": {
            "text/html": [
              "<table border=\"1\" class=\"dataframe\">\n",
              "  <thead>\n",
              "    <tr style=\"text-align: left;\">\n",
              "      <th>epoch</th>\n",
              "      <th>train_loss</th>\n",
              "      <th>valid_loss</th>\n",
              "      <th>accuracy</th>\n",
              "      <th>time</th>\n",
              "    </tr>\n",
              "  </thead>\n",
              "  <tbody>\n",
              "    <tr>\n",
              "      <td>0</td>\n",
              "      <td>0.256285</td>\n",
              "      <td>0.171210</td>\n",
              "      <td>0.937326</td>\n",
              "      <td>00:23</td>\n",
              "    </tr>\n",
              "    <tr>\n",
              "      <td>1</td>\n",
              "      <td>0.229714</td>\n",
              "      <td>0.164213</td>\n",
              "      <td>0.935933</td>\n",
              "      <td>00:23</td>\n",
              "    </tr>\n",
              "    <tr>\n",
              "      <td>2</td>\n",
              "      <td>0.208024</td>\n",
              "      <td>0.181556</td>\n",
              "      <td>0.924791</td>\n",
              "      <td>00:23</td>\n",
              "    </tr>\n",
              "  </tbody>\n",
              "</table>"
            ],
            "text/plain": [
              "<IPython.core.display.HTML object>"
            ]
          },
          "metadata": {
            "tags": []
          }
        }
      ]
    },
    {
      "cell_type": "code",
      "metadata": {
        "id": "1UlmIC8r4eD-"
      },
      "source": [
        "#learn.save(dest/'v1_final')"
      ],
      "execution_count": null,
      "outputs": []
    },
    {
      "cell_type": "code",
      "metadata": {
        "colab": {
          "base_uri": "https://localhost:8080/",
          "height": 767
        },
        "id": "ULp6gQaNrkwJ",
        "outputId": "5da607f4-b3b7-497e-c218-a8b7923f7b15"
      },
      "source": [
        "classifier.show_results()"
      ],
      "execution_count": 36,
      "outputs": [
        {
          "output_type": "display_data",
          "data": {
            "text/html": [
              ""
            ],
            "text/plain": [
              "<IPython.core.display.HTML object>"
            ]
          },
          "metadata": {
            "tags": []
          }
        },
        {
          "output_type": "display_data",
          "data": {
            "text/html": [
              "<table border=\"1\" class=\"dataframe\">\n",
              "  <thead>\n",
              "    <tr style=\"text-align: right;\">\n",
              "      <th></th>\n",
              "      <th>text</th>\n",
              "      <th>category</th>\n",
              "      <th>category_</th>\n",
              "    </tr>\n",
              "  </thead>\n",
              "  <tbody>\n",
              "    <tr>\n",
              "      <th>0</th>\n",
              "      <td>xxbos 1 . xxup aids . 2010 xxmaj jan xxunk - 37 . doi : 10.1097 / xxunk . xxmaj the effect combined antiretroviral therapy overall mortality hiv - infected individuals . xxup hiv - causal xxmaj collaboration , xxmaj ray xxup m , xxmaj logan xxup r , xxmaj sterne xxup ja , hernández - díaz xxup s , xxmaj robins xxup jm , xxmaj sabin xxup c , xxmaj xxunk xxup l , van xxmaj sighem xxup a , de xxmaj wolf xxup f , xxmaj costagliola xxup d , xxmaj xxunk xxup e , xxmaj bucher xxup hc , von xxmaj xxunk xxup v , xxmaj esteve xxup a , xxmaj xxunk xxup j , del xxmaj amo xxup j , xxmaj moreno xxup s , xxmaj justice xxup a , xxmaj goulet xxup j , xxmaj lodi xxup s , xxmaj phillips xxup a , xxmaj</td>\n",
              "      <td>0</td>\n",
              "      <td>0</td>\n",
              "    </tr>\n",
              "    <tr>\n",
              "      <th>1</th>\n",
              "      <td>xxbos 1 . xxmaj biochem xxmaj pharmacol . 2014 xxmaj jul xxunk - 87 . doi : 10.1016 / xxunk . xxmaj epub 2014 xxmaj apr 30 . xxmaj tylvalosin exhibits anti - inflammatory property attenuates acute lung injury different models possibly suppression xxup nf - κb activation . xxmaj zhao xxup z(1 ) , xxmaj tang xxup x(2 ) , xxmaj zhao xxup x(3 ) , xxmaj zhang xxup m(4 ) , xxmaj zhang xxup w(5 ) , xxmaj hou xxup s(6 ) , xxmaj yuan xxup w(7 ) , xxmaj zhang xxup h(8 ) , xxmaj shi xxup xxunk ) , xxmaj jia xxup h(10 ) , xxmaj liang xxup xxunk ) , xxmaj lai xxup xxunk ) , xxmaj gao xxup xxunk ) , xxmaj zhang xxup xxunk ) , xxmaj fu xxup xxunk ) , xxmaj chen xxup xxunk ) . xxmaj author information : (</td>\n",
              "      <td>0</td>\n",
              "      <td>0</td>\n",
              "    </tr>\n",
              "    <tr>\n",
              "      <th>2</th>\n",
              "      <td>xxbos 1 . xxmaj int j xxmaj public xxmaj health . 2018 xxunk xxunk - 108 . doi : 10.1007 / s xxrep 3 0 38 - 017 - 1007 - 0 . xxmaj epub 2017 xxmaj aug 3 . xxmaj burden lower respiratory infections xxmaj eastern xxmaj mediterranean xxmaj region 1990 2015 : findings xxmaj global xxmaj burden xxmaj disease 2015 study . xxup xxunk 2015 xxmaj eastern xxmaj mediterranean xxmaj region xxmaj lower xxmaj respiratory xxmaj infections xxmaj collaborators . xxmaj collaborators : xxunk - xxunk xxup m , xxmaj el xxmaj xxunk xxup c , xxmaj xxunk xxup r , xxmaj xxunk xxup i , xxmaj xxunk xxup a , xxmaj xxunk xxup nj , xxmaj xxunk xxup m , xxmaj xxunk xxup f , xxmaj chew xxup a , xxmaj xxunk xxup kj , xxmaj xxunk xxup d , xxmaj xxunk xxup r , xxmaj xxunk</td>\n",
              "      <td>0</td>\n",
              "      <td>0</td>\n",
              "    </tr>\n",
              "    <tr>\n",
              "      <th>3</th>\n",
              "      <td>xxbos 1 . xxmaj viruses . 2016 xxmaj jun xxunk ) . pii : xxup xxunk . doi : 10.3390 / xxunk . xxmaj identification xxmaj vimentin xxmaj potential xxmaj therapeutic xxmaj target xxup hiv xxmaj infection . fernández - ortega xxup c(1 ) , xxmaj ramírez xxup a(2 ) , xxmaj xxunk xxup d(3 ) , xxmaj xxunk xxup t(4 ) , xxmaj xxunk xxup r(5 ) , xxmaj xxunk xxup m(6 ) , xxmaj xxunk xxup l(7 ) , xxunk - serra xxup l(8 ) , xxmaj duarte xxup c(9 ) , xxmaj xxunk xxup xxunk ) , xxmaj reyes xxup xxunk ) , xxmaj xxunk xxup xxunk ) , xxmaj silva xxup xxunk ) , xxmaj xxunk xxup xxunk ) , xxmaj ramos xxup xxunk ) , xxmaj xxunk xxup xxunk ) , xxmaj xxunk xxup xxunk ) . xxmaj author information : ( 1)center xxmaj genetic</td>\n",
              "      <td>0</td>\n",
              "      <td>0</td>\n",
              "    </tr>\n",
              "    <tr>\n",
              "      <th>4</th>\n",
              "      <td>xxbos 1 . xxmaj proc xxmaj natl xxmaj acad xxmaj sci u s xxup a. 2016 xxmaj feb xxunk - 96 . doi : 10.1073 / xxunk . xxmaj epub 2016 xxmaj jan 14 . xxmaj sensing latent xxup ebv infection xxunk transfer 5 ' xxrep 3 p xxup rna . xxmaj xxunk xxup sr(1 ) , van xxmaj xxunk xxup ma(1 ) , xxunk - xxunk xxup d(2 ) , xxmaj berenguer xxup j(3 ) , xxmaj xxunk xxup xxunk ) , xxmaj gibbs xxup s(5 ) , xxmaj xxunk xxup n(6 ) , xxmaj xxunk xxup xxunk ) , xxmaj xxunk xxup es(1 ) , xxmaj swaminathan xxup s(8 ) , xxmaj verkuijlen xxup sa(1 ) , xxmaj xxunk xxup gl(1 ) , van xxmaj xxunk xxup xxunk ) , de xxmaj xxunk xxup xxunk ) , xxmaj xxunk xxup xxunk ) , xxmaj xxunk xxup xxunk )</td>\n",
              "      <td>0</td>\n",
              "      <td>0</td>\n",
              "    </tr>\n",
              "    <tr>\n",
              "      <th>5</th>\n",
              "      <td>xxbos 1 . xxmaj nucleic xxmaj acids xxmaj res . 2016 xxmaj mar xxunk . doi : 10.1093 / nar / xxunk . xxmaj epub 2015 xxmaj nov 17 . xxmaj an ultra - dense library resource rapid deconvolution mutations cause phenotypes xxmaj escherichia coli . xxmaj xxunk xxup rb(1 ) , xxmaj gu xxup f(2 ) , xxmaj lin xxup hy(1 ) , xxmaj xxunk xxup jl(1 ) , xxmaj xxunk xxup mj(3 ) , xxmaj wilson xxup r(3 ) , xxmaj bravo xxmaj núñez xxup ma(4 ) , xxmaj xxunk xxup xxunk ) , xxmaj louis xxup xxunk ) , xxmaj xxunk xxup rl(1 ) , xxmaj hu xxup xxunk ) , xxmaj rosenberg xxup xxunk ) . xxmaj author information : ( 1)department xxmaj molecular xxmaj human xxmaj genetics , xxmaj baylor xxmaj college xxmaj medicine , xxmaj houston , xxup tx 77030 , xxup usa xxmaj</td>\n",
              "      <td>0</td>\n",
              "      <td>0</td>\n",
              "    </tr>\n",
              "    <tr>\n",
              "      <th>6</th>\n",
              "      <td>xxbos 1 . xxmaj proc xxmaj natl xxmaj acad xxmaj sci u s xxup a. 2019 xxmaj sep xxunk - xxunk . doi : 10.1073 / xxunk . xxmaj epub 2019 xxmaj aug 2 . xxmaj next - generation targeted xxup aavp vectors systemic transgene delivery cancer . xxmaj xxunk xxup k(1 ) , xxmaj xxunk xxup t(1 ) , xxmaj xxunk xxup s(1 ) , xxmaj xxunk xxup jm(1 ) , xxmaj xxunk xxup ca(1 ) , xxmaj xxunk xxup k(1 ) , xxmaj xxunk xxup p(1 ) , xxmaj xxunk xxup a(2 ) , xxmaj xxunk xxup p(2 ) , xxmaj lee xxup xxunk ) , xxmaj xxunk xxup s(4 ) , xxmaj smith xxup xxunk ) , xxmaj xxunk xxup xxunk ) , xxmaj xxunk xxup xxunk ) , xxmaj xxunk xxup xxunk ) , xxmaj xxunk xxup xxunk ) , xxmaj xxunk xxup a(12 ) .</td>\n",
              "      <td>0</td>\n",
              "      <td>0</td>\n",
              "    </tr>\n",
              "    <tr>\n",
              "      <th>7</th>\n",
              "      <td>xxbos 1 . xxmaj nucleic xxmaj acids xxmaj res . 2014 xxmaj may;42(9):5917 - 28 . doi : 10.1093 / nar / gku175 . xxmaj epub 2014 xxmaj mar 12 . xxmaj altering murine leukemia virus integration disruption integrase xxup bet protein family interaction . xxmaj aiyer xxup s(1 ) , xxmaj swapna xxup gv(2 ) , xxmaj malani xxup n(3 ) , xxmaj aramini xxup jm(2 ) , xxmaj schneider xxup wm(4 ) , xxmaj plumb xxup mr(5 ) , xxmaj ghanem xxup m(6 ) , xxmaj larue xxup rc(5 ) , xxmaj sharma xxup a(5 ) , xxmaj studamire xxup b(6 ) , xxmaj kvaratskhelia xxup m(5 ) , xxmaj bushman xxup fd(3 ) , xxmaj montelione xxup gt(7 ) , xxmaj roth xxup mj(8 ) . xxmaj author information : ( 1)department xxmaj pharmacology , xxmaj robert xxmaj wood xxmaj johnson xxmaj medical xxmaj school , xxmaj</td>\n",
              "      <td>1</td>\n",
              "      <td>0</td>\n",
              "    </tr>\n",
              "    <tr>\n",
              "      <th>8</th>\n",
              "      <td>xxbos 1 . xxmaj transpl xxmaj infect xxmaj dis . 2018 xxmaj xxunk . doi : 10 . xxrep 4 1 / tid.12926 . xxmaj epub 2018 xxmaj jun 22 . xxmaj community - acquired respiratory virus lower respiratory tract disease allogeneic stem cell transplantation recipient : xxmaj risk factors mortality pulmonary virus - bacterial mixed infections . xxmaj xxunk xxup jl(1)(2 ) , xxmaj gómez xxup xxunk ) , xxmaj pérez xxup a(4 ) , xxmaj madrid xxup s(5 ) , xxunk - xxunk xxup a(1 ) , xxmaj giménez xxup e(5 ) , xxmaj xxunk xxup j(1)(2 ) , xxmaj gonzález xxup em(3 ) , xxmaj vinuesa xxup v(5 ) , xxmaj moles xxup p(6 ) , hernández - xxunk xxup xxunk ) , xxmaj salavert xxup m(7 ) , xxmaj xxunk xxup m(4 ) , xxmaj sanz xxup g(1)(2 ) , xxmaj xxunk xxup xxunk ) ,</td>\n",
              "      <td>0</td>\n",
              "      <td>0</td>\n",
              "    </tr>\n",
              "  </tbody>\n",
              "</table>"
            ],
            "text/plain": [
              "<IPython.core.display.HTML object>"
            ]
          },
          "metadata": {
            "tags": []
          }
        }
      ]
    },
    {
      "cell_type": "code",
      "metadata": {
        "colab": {
          "base_uri": "https://localhost:8080/",
          "height": 1000
        },
        "id": "o6mSEEvYyY4V",
        "outputId": "a5e0d1d7-d72d-45a4-a2fd-a83375a42eae"
      },
      "source": [
        "interp = ClassificationInterpretation.from_learner(classifier)\n",
        "interp.plot_top_losses(9)\n",
        "interp.plot_confusion_matrix()\n",
        "\n",
        "## NEXT STEPS: Experiment with different number of epochs with final models to get best accuracy and LR (before overfitting)\n",
        "# Plot ROC curve and Confusion Matrix for our model\n",
        "# Load Dataloaders using datablocks method"
      ],
      "execution_count": 37,
      "outputs": [
        {
          "output_type": "display_data",
          "data": {
            "text/html": [
              ""
            ],
            "text/plain": [
              "<IPython.core.display.HTML object>"
            ]
          },
          "metadata": {
            "tags": []
          }
        },
        {
          "output_type": "display_data",
          "data": {
            "text/html": [
              "<table border=\"1\" class=\"dataframe\">\n",
              "  <thead>\n",
              "    <tr style=\"text-align: right;\">\n",
              "      <th></th>\n",
              "      <th>input</th>\n",
              "      <th>target</th>\n",
              "      <th>predicted</th>\n",
              "      <th>probability</th>\n",
              "      <th>loss</th>\n",
              "    </tr>\n",
              "  </thead>\n",
              "  <tbody>\n",
              "    <tr>\n",
              "      <th>0</th>\n",
              "      <td>xxbos 1 . xxmaj virology . 2006 xxmaj feb xxunk - 55 . xxmaj epub 2005 xxmaj oct 25 . xxup hiv-1 xxmaj nef stabilizes xxup ap-1 membranes without inducing xxunk de novo attachment . xxmaj coleman xxup sh(1 ) , xxmaj xxunk xxup d , xxmaj xxunk xxup cm , xxmaj xxunk xxup jc . xxmaj author information : ( 1)department xxmaj medicine , xxmaj university xxmaj california , xxmaj san xxmaj diego , 9500 xxmaj gilman xxmaj dr . , xxmaj la xxmaj jolla , xxup ca 92093 - xxunk , xxup usa . xxup hiv-1 xxmaj nef affects trafficking numerous cellular proteins optimize viral replication evade host defenses . xxmaj the adaptor protein ( ap ) complexes , form part cytoplasmic coat endosomal vesicles , key cellular co - factors xxmaj nef . xxmaj nef binds complexes alters physiologic cycle attachment release membranes . xxmaj specifically ,</td>\n",
              "      <td>0</td>\n",
              "      <td>1</td>\n",
              "      <td>0.9895108342170715</td>\n",
              "      <td>4.557419776916504</td>\n",
              "    </tr>\n",
              "    <tr>\n",
              "      <th>1</th>\n",
              "      <td>xxbos 1 . xxmaj proc xxmaj natl xxmaj acad xxmaj sci u s xxup a. 2012 xxmaj dec xxunk - 6 . doi : 10.1073 / xxunk . xxmaj epub 2012 xxmaj nov 26 . xxmaj structural basis xxmaj marburg virus xxunk immune evasion mechanisms . xxmaj xxunk xxup p(1 ) , xxmaj edwards xxup mr , xxmaj xxunk xxup rs , xxmaj leung xxup dw , xxunk - xxunk xxup ac , xxmaj xxunk xxup dm , xxmaj xxunk xxup z , xxmaj liu xxup g , xxmaj huh xxup j , xxmaj basler xxup cf , xxmaj xxunk xxup gk . xxmaj author information : ( 1)department xxmaj pathology xxmaj immunology , xxmaj washington xxmaj university xxmaj school xxmaj medicine , xxmaj st . xxmaj louis , xxup mo 63110 , xxup usa . xxmaj filoviruses , marburgvirus ( marv ) ebolavirus ( ebov ) , causative agents</td>\n",
              "      <td>0</td>\n",
              "      <td>1</td>\n",
              "      <td>0.9774571061134338</td>\n",
              "      <td>3.792332172393799</td>\n",
              "    </tr>\n",
              "    <tr>\n",
              "      <th>2</th>\n",
              "      <td>xxbos 1 . xxmaj gut . 2005 xxmaj xxunk - 17 . xxmaj epub 2005 xxmaj may 4 . xxup creb / xxup pka sensitive signalling pathways activate maintain expression levels hepatitis b virus pre - s2 / s promoter . xxmaj xxunk xxup f(1 ) , xxmaj xxunk xxup c , xxmaj xxunk xxup s , xxmaj manns xxup mp , xxmaj trautwein xxup c. xxmaj author information : ( 1)department xxmaj gastroenterology , xxmaj hepatology , xxmaj endocrinology , xxmaj hannover xxmaj medical xxmaj school , carl - neuberg - strasse 1 , xxup xxunk xxmaj hannover , xxmaj germany . xxup background xxup and xxup aims : xxup creb ( camp response element binding protein ) transcription factors key regulators homeostatic functions liver , xxup cre binding increased hepatic inflammation . xxmaj during chronic hepatitis b virus ( hbv ) infection , mutations deletions pre - s</td>\n",
              "      <td>0</td>\n",
              "      <td>1</td>\n",
              "      <td>0.9705485105514526</td>\n",
              "      <td>3.5250110626220703</td>\n",
              "    </tr>\n",
              "    <tr>\n",
              "      <th>3</th>\n",
              "      <td>xxbos 1 . j xxmaj virol . 2005 xxmaj xxunk - 51 . xxmaj rab9 gtpase required replication human immunodeficiency virus type 1 , filoviruses , measles virus . xxmaj murray xxup jl(1 ) , xxmaj xxunk xxup m , mcdonald xxup nj , xxmaj xxunk xxup m , xxmaj sheng xxup j , xxmaj xxunk xxup wj , xxmaj zhao xxup l , xxmaj le xxmaj xxunk xxup jm , xxmaj shaw xxup mw , xxmaj luo xxup cc , xxunk - schwartz xxup j , xxmaj sanchez xxup a , xxmaj rubin xxup dh , xxmaj hodge xxup tw . xxmaj author information : ( 1)national xxmaj center xxup hiv , xxup std , xxup tb xxmaj prevention , xxmaj centers xxmaj disease xxmaj control xxmaj prevention , xxmaj atlanta , xxmaj georgia 30 xxrep 3 3 , xxup usa . xxmaj rab proteins effectors facilitate vesicular transport</td>\n",
              "      <td>0</td>\n",
              "      <td>1</td>\n",
              "      <td>0.9685006141662598</td>\n",
              "      <td>3.45778751373291</td>\n",
              "    </tr>\n",
              "    <tr>\n",
              "      <th>4</th>\n",
              "      <td>xxbos 1 . j xxmaj virol . 2012 xxmaj xxunk - 9 . doi : 10.1128 / xxup xxunk - 11 . xxmaj epub 2012 xxmaj may 2 . xxmaj autophagic clearance xxmaj sin xxmaj nombre hantavirus glycoprotein xxmaj gn promotes virus replication cells . xxmaj xxunk xxup xxunk ) , xxmaj cheng xxup e , xxmaj xxunk xxup ss , xxmaj xxunk xxup mj , xxmaj xxunk xxup s , xxmaj haque xxup a , xxmaj mir xxup ma . xxmaj author information : ( 1)department xxmaj microbiology , xxmaj molecular xxmaj genetics xxmaj immunology , xxmaj university xxmaj kansas xxmaj medical xxmaj center , xxmaj kansas xxmaj city , xxup ks , xxup usa . xxmaj hantavirus glycoprotein precursor ( gpc ) posttranslationally cleaved two glycoproteins , xxmaj gn xxmaj gc . xxmaj cells transfected plasmids expressing either xxup gpc xxmaj gn xxmaj gc revealed xxmaj gn posttranslationally</td>\n",
              "      <td>0</td>\n",
              "      <td>1</td>\n",
              "      <td>0.9640178084373474</td>\n",
              "      <td>3.3247315883636475</td>\n",
              "    </tr>\n",
              "    <tr>\n",
              "      <th>5</th>\n",
              "      <td>xxbos 1 . xxmaj biochem xxup j. 2017 xxmaj oct xxunk - xxunk . doi : 10.1042 / xxup xxunk . xxmaj expression xxup rna glycosidase inhibits xxup hiv-1 transactivation transcription . xxmaj xxunk xxup m(1 ) , xxmaj xxunk xxup xxunk ) . xxmaj author information : ( 1)department xxmaj biology , xxmaj york xxmaj university , xxmaj toronto , xxmaj ontario , xxmaj canada . ( 2)department xxmaj biology , xxmaj york xxmaj university , xxmaj toronto , xxmaj ontario , xxmaj canada xxunk . xxmaj comment xxmaj biochem xxup j. 2018 xxmaj mar xxunk - 1062 . xxup hiv-1 ( human immunodeficiency virus ) transcription primarily controlled virally encoded xxmaj tat ( transactivator transcription ) protein interaction viral xxup tar ( transcription response element ) xxup rna element . xxmaj specifically , binding xxmaj tat - containing complex xxup tar recruits cellular factors promote elongation host xxup</td>\n",
              "      <td>0</td>\n",
              "      <td>1</td>\n",
              "      <td>0.9307105541229248</td>\n",
              "      <td>2.6694631576538086</td>\n",
              "    </tr>\n",
              "    <tr>\n",
              "      <th>6</th>\n",
              "      <td>xxbos 1 . plos xxmaj pathog . 2018 xxmaj jan xxunk . doi : 10.1371 / xxunk . ecollection 2018 xxmaj jan . xxmaj human cytomegalovirus xxup ul23 inhibits transcription interferon - γ stimulated genes blocks antiviral interferon - γ responses interacting human xxmaj n - myc interactor protein . xxmaj feng xxup l(1 ) , xxmaj sheng xxup j(2 ) , xxmaj vu xxup xxunk ) , xxmaj liu xxup xxunk ) , xxmaj xxunk xxup c(1 ) , xxmaj wu xxup s(1 ) , xxmaj xxunk xxup p(1)(2 ) , xxunk - xxunk xxup m(2 ) , xxmaj ran xxup y(1 ) , xxmaj yang xxup x(1 ) , xxmaj sun xxup x(1 ) , xxmaj deng xxup xxunk ) , xxmaj zhou xxup t(1 ) , xxmaj lu xxup s(2 ) , xxmaj li xxup h(1 ) , xxmaj liu xxup f(1)(2 ) . xxmaj author information</td>\n",
              "      <td>0</td>\n",
              "      <td>1</td>\n",
              "      <td>0.929632306098938</td>\n",
              "      <td>2.6540207862854004</td>\n",
              "    </tr>\n",
              "    <tr>\n",
              "      <th>7</th>\n",
              "      <td>xxbos 1 . j xxmaj virol . 2004 xxmaj xxunk - 85 . xxmaj transcriptional activation xxmaj kaposi 's sarcoma - associated herpesvirus latency - associated nuclear antigen facilitated xxmaj n - terminal chromatin - binding motif . xxmaj wong xxup ly(1 ) , xxmaj xxunk xxup ga , xxmaj wilson xxup ac . xxmaj author information : ( 1)department xxmaj microbiology , xxmaj new xxmaj york xxmaj university xxmaj school xxmaj medicine , 550 xxmaj first xxmaj ave . , xxmaj new xxmaj york , xxup ny 10016 , xxup usa . xxmaj in immunocompromised patients , infection xxmaj kaposi 's sarcoma - associated herpesvirus ( kshv ) give rise xxmaj kaposi 's sarcoma several lymphoproliferative disorders . xxmaj in tumors , xxup kshv establishes latent infection many rapidly proliferating morphologically abnormal cells . xxmaj only viral gene products expressed latent virus , one best characterized latency - associated</td>\n",
              "      <td>0</td>\n",
              "      <td>1</td>\n",
              "      <td>0.9244834184646606</td>\n",
              "      <td>2.5834031105041504</td>\n",
              "    </tr>\n",
              "    <tr>\n",
              "      <th>8</th>\n",
              "      <td>xxbos 1 . xxmaj intervirology . xxunk - 32 . doi : 10.1159 / xxrep 3 0 xxunk . xxmaj epub 2008 xxmaj jan 9 . a novel protein encoded xxmaj kaposi 's sarcoma - associated herpesvirus open reading frame 36 inhibits cell spreading focal adhesion kinase activation . xxmaj park xxup j(1 ) , xxmaj lee xxup ms , xxmaj yoo xxup sm , xxmaj seo xxup t. xxmaj author information : ( 1)korea xxmaj basic xxmaj science xxmaj institute , xxmaj gwangju , xxmaj korea . xxup objective : xxmaj kaposi 's sarcoma - associated herpesvirus ( kshv ) gamma - herpesvirus implicated development xxmaj kaposi 's sarcoma , primary effusion lymphoma forms multicentric xxmaj castleman 's disease . xxmaj the xxup kshv open reading frame ( orf ) 36 encodes viral serine / threonine protein kinase . xxmaj the aim study characterize cellular function xxup orf36 protein</td>\n",
              "      <td>0</td>\n",
              "      <td>1</td>\n",
              "      <td>0.9148249626159668</td>\n",
              "      <td>2.463046073913574</td>\n",
              "    </tr>\n",
              "  </tbody>\n",
              "</table>"
            ],
            "text/plain": [
              "<IPython.core.display.HTML object>"
            ]
          },
          "metadata": {
            "tags": []
          }
        },
        {
          "output_type": "display_data",
          "data": {
            "image/png": "[encoded data removed]",
            "text/plain": [
              "<Figure size 432x288 with 1 Axes>"
            ]
          },
          "metadata": {
            "tags": [],
            "needs_background": "light"
          }
        }
      ]
    },
    {
      "cell_type": "code",
      "metadata": {
        "colab": {
          "base_uri": "https://localhost:8080/",
          "height": 34
        },
        "id": "mAuvooBnDuz4",
        "outputId": "7a1eeb7d-da16-4dad-b762-c584493e25a6"
      },
      "source": [
        "## Accuracy\n",
        "preds, y, loss = classifier.get_preds(with_loss=True)\n",
        "acc = accuracy(preds, y)\n",
        "print('The accuracy is {0} %.'.format(acc*100))"
      ],
      "execution_count": 38,
      "outputs": [
        {
          "output_type": "display_data",
          "data": {
            "text/html": [
              ""
            ],
            "text/plain": [
              "<IPython.core.display.HTML object>"
            ]
          },
          "metadata": {
            "tags": []
          }
        },
        {
          "output_type": "stream",
          "text": [
            "The accuracy is 92.47911071777344 %.\n"
          ],
          "name": "stdout"
        }
      ]
    },
    {
      "cell_type": "code",
      "metadata": {
        "colab": {
          "base_uri": "https://localhost:8080/"
        },
        "id": "FkDiYaoaD9OR",
        "outputId": "8a4247e8-2964-43ee-eaac-4f8d41eaf580"
      },
      "source": [
        "## ROC-AuC Calculation + plots\n",
        "# probs from log preds\n",
        "probs = np.exp(preds[:,1])\n",
        "# Compute ROC curve\n",
        "fpr, tpr, thresholds = roc_curve(y, probs, pos_label=1)\n",
        "\n",
        "# Compute ROC area\n",
        "roc_auc = auc(fpr, tpr)\n",
        "print('ROC area is {0}'.format(roc_auc))"
      ],
      "execution_count": 39,
      "outputs": [
        {
          "output_type": "stream",
          "text": [
            "ROC area is 0.9808223401973404\n"
          ],
          "name": "stdout"
        }
      ]
    },
    {
      "cell_type": "code",
      "metadata": {
        "colab": {
          "base_uri": "https://localhost:8080/",
          "height": 312
        },
        "id": "QHoObLFSEK-D",
        "outputId": "eb4cf6f2-3005-4cfd-e812-6f05ec0b7b29"
      },
      "source": [
        "plt.figure()\n",
        "plt.plot(fpr, tpr, color='darkorange', label='ROC curve (area = %0.2f)' % roc_auc)\n",
        "plt.plot([0, 1], [0, 1], color='navy', linestyle='--')\n",
        "plt.xlim([-0.01, 1.0])\n",
        "plt.ylim([0.0, 1.01])\n",
        "plt.xlabel('False Positive Rate')\n",
        "plt.ylabel('True Positive Rate')\n",
        "plt.title('Receiver operating characteristic')\n",
        "plt.legend(loc=\"lower right\")"
      ],
      "execution_count": 40,
      "outputs": [
        {
          "output_type": "execute_result",
          "data": {
            "text/plain": [
              "<matplotlib.legend.Legend at 0x7f926f067278>"
            ]
          },
          "metadata": {
            "tags": []
          },
          "execution_count": 40
        },
        {
          "output_type": "display_data",
          "data": {
            "image/png": "[encoded data removed]",
            "text/plain": [
              "<Figure size 432x288 with 1 Axes>"
            ]
          },
          "metadata": {
            "tags": [],
            "needs_background": "light"
          }
        }
      ]
    },
    {
      "cell_type": "code",
      "metadata": {
        "id": "o-PqGjYO0lXt"
      },
      "source": [
        "# saving model\r\n",
        "classifier.export(\"/content/gdrive/My Drive/fastai-v3/models/vip_model\")"
      ],
      "execution_count": 43,
      "outputs": []
    }
  ]
}